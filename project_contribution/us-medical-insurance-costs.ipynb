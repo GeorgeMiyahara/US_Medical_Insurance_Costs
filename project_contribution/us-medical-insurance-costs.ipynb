{
 "cells": [
  {
   "cell_type": "markdown",
   "metadata": {},
   "source": [
    "# U.S. Medical Insurance Costs"
   ]
  },
  {
   "cell_type": "markdown",
   "metadata": {
    "tags": []
   },
   "source": [
    "## Table of contents\n",
    "### 1.Introduction\n",
    "- Project Overview\n",
    "- Objectives\n",
    "- Data Source\n",
    "### 2.Data Exploration and Preprocessing\n",
    "- Loading the Dataset\n",
    "- Initial Data Inspection\n",
    "- Data Cleaning and Preprocessing\n",
    "- Data Visualization\n",
    "  - Age Distribution\n",
    "  - Charges by Smoker Status\n",
    "  - Summary Statistics\n",
    "  - Categorical Variable Analysis\n",
    "  - Gender Distribution\n",
    "  - Smoker vs. Non-Smoker Analysis\n",
    "### 3.Data Analysis\n",
    "- Correlation Analysis\n",
    "- Correlation Matrix\n",
    "- Visualizing Relationships\n",
    "- Hypothesis Testing\n",
    "- Impact of Smoking on Charges\n",
    "- Regression Analysis\n",
    "- Predicting Charges with BMI\n",
    "- Clustering\n",
    "- K-Means Clustering\n",
    "- Geospatial Analysis (if applicable)\n",
    "- Regional Differences in Charges\n",
    "### 4.Insights and Conclusion\n",
    "- Key Findings\n",
    "- Implications\n",
    "- Recommendations\n",
    "- Limitations of the Analysis\n",
    "- Future Work\n",
    "### 5.Appendices\n",
    "- Code Snippets and Notebooks (if provided separately)\n",
    "- Data Dictionary\n",
    "- References"
   ]
  },
  {
   "cell_type": "markdown",
   "metadata": {},
   "source": [
    "# 1. Introduction"
   ]
  },
  {
   "cell_type": "markdown",
   "metadata": {},
   "source": [
    "### Project Overview\n",
    "This project explores the complex world of health insurance premiums in our interconnected society. Health insurance is a vital safety net for accessing medical care, but its cost is not arbitrary. This analysis dives deep into the factors that influence insurance premiums, including age, gender, BMI, family size, and smoking habits. Smoking, for instance, leads to higher premiums due to its health risks.\n",
    "\n",
    "Family size can also affect costs, while BMI plays a role, with higher values often leading to increased premiums. Geographic location matters too, as healthcare costs and access vary by region.\n",
    "\n",
    "Using the 'insurance.csv' dataset, this project uncovers the relationships between these factors and insurance charges, aiming to provide insights into how premiums are determined. It invites readers on a data-driven journey to unveil the intricacies of health insurance pricing and its impact on individuals' lives."
   ]
  },
  {
   "cell_type": "markdown",
   "metadata": {},
   "source": [
    "### Objectives\n",
    "This project aims to explore the factors influencing health insurance premiums. We'll delve into the variables that insurers consider when determining premiums, such as age, gender, BMI, family size, smoking habits, and geographic location. By analyzing the 'insurance.csv' dataset, we seek to uncover hidden patterns and provide insights into how insurance premiums are calculated."
   ]
  },
  {
   "cell_type": "markdown",
   "metadata": {},
   "source": [
    "### Data Source"
   ]
  },
  {
   "cell_type": "markdown",
   "metadata": {},
   "source": [
    "The primary data source for this project is the 'insurance.csv' dataset, which contains information about individuals' health insurance details. This dataset serves as the foundation for our analysis, allowing us to draw insights into the determinants of health insurance premiums."
   ]
  },
  {
   "cell_type": "markdown",
   "metadata": {
    "tags": []
   },
   "source": [
    "# 2.Data Exploration and Preprocessing"
   ]
  },
  {
   "cell_type": "markdown",
   "metadata": {},
   "source": [
    "### Loading the Dataset"
   ]
  },
  {
   "cell_type": "code",
   "execution_count": null,
   "metadata": {},
   "outputs": [],
   "source": [
    "# Import necessary libraries\n",
    "import pandas as pd\n",
    "import numpy as np\n",
    "\n",
    "# Load the dataset\n",
    "df = pd.read_csv('insurance.csv')"
   ]
  },
  {
   "cell_type": "markdown",
   "metadata": {},
   "source": [
    "### Initial Data Inspection"
   ]
  },
  {
   "cell_type": "code",
   "execution_count": null,
   "metadata": {},
   "outputs": [],
   "source": [
    "# Check the size of data\n",
    "df.shape"
   ]
  },
  {
   "cell_type": "markdown",
   "metadata": {},
   "source": [
    "It appears that there are 1338 rows and 7 characters. "
   ]
  },
  {
   "cell_type": "code",
   "execution_count": null,
   "metadata": {},
   "outputs": [],
   "source": [
    "# Observe the data\n",
    "df.head(5)\n"
   ]
  },
  {
   "cell_type": "code",
   "execution_count": null,
   "metadata": {},
   "outputs": [],
   "source": [
    "df.columns"
   ]
  },
  {
   "cell_type": "code",
   "execution_count": null,
   "metadata": {},
   "outputs": [],
   "source": [
    "# Cehck the type of characters\n",
    "df.info()"
   ]
  },
  {
   "cell_type": "markdown",
   "metadata": {},
   "source": [
    "As we can see, the dataset is complete. This is beneficial since we need to analyze the correlation relationship later."
   ]
  },
  {
   "cell_type": "code",
   "execution_count": null,
   "metadata": {},
   "outputs": [],
   "source": [
    "#Select numeric columns\n",
    "numeric = list(df.select_dtypes(include=[np.number]).columns.values)\n",
    "print('These columns are stored as numerical input: '+ str(numeric))\n",
    "\n",
    "#Select non-numeric columns\n",
    "columns_object = list(df.select_dtypes(include=[np.number]).columns.values)\n",
    "print('These columns are stored as series of object: '+ str(columns_object))"
   ]
  },
  {
   "cell_type": "code",
   "execution_count": null,
   "metadata": {},
   "outputs": [],
   "source": [
    "# Inspect for missing values\n",
    "missing_values = df.isnull().sum()\n",
    "print(missing_values)"
   ]
  },
  {
   "cell_type": "markdown",
   "metadata": {},
   "source": [
    "### Data Cleaning and Preprocessing"
   ]
  },
  {
   "cell_type": "markdown",
   "metadata": {},
   "source": [
    "The dataset is already complete. We will now convert categorical columns to numerical values for analysis."
   ]
  },
  {
   "cell_type": "code",
   "execution_count": null,
   "metadata": {},
   "outputs": [],
   "source": []
  },
  {
   "cell_type": "code",
   "execution_count": null,
   "metadata": {},
   "outputs": [],
   "source": []
  },
  {
   "cell_type": "code",
   "execution_count": null,
   "metadata": {},
   "outputs": [],
   "source": []
  },
  {
   "cell_type": "code",
   "execution_count": null,
   "metadata": {},
   "outputs": [],
   "source": []
  },
  {
   "cell_type": "markdown",
   "metadata": {},
   "source": [
    "### Data Visualization"
   ]
  },
  {
   "cell_type": "markdown",
   "metadata": {},
   "source": [
    "  - Age Distribution"
   ]
  },
  {
   "cell_type": "markdown",
   "metadata": {},
   "source": [
    "  - Charges by Smoker Status"
   ]
  },
  {
   "cell_type": "markdown",
   "metadata": {},
   "source": [
    "  - Summary Statistics"
   ]
  },
  {
   "cell_type": "markdown",
   "metadata": {},
   "source": [
    "  - Categorical Variable Analysis"
   ]
  },
  {
   "cell_type": "markdown",
   "metadata": {},
   "source": [
    "  - Gender Distribution"
   ]
  },
  {
   "cell_type": "markdown",
   "metadata": {},
   "source": [
    "  - Smoker vs. Non-Smoker Analysis"
   ]
  },
  {
   "cell_type": "code",
   "execution_count": null,
   "metadata": {},
   "outputs": [],
   "source": [
    "import seaborn as sns\n",
    "import matplotlib.pyplot as plt\n"
   ]
  },
  {
   "cell_type": "code",
   "execution_count": null,
   "metadata": {},
   "outputs": [],
   "source": [
    "# Visualize the distribution of 'age' using a histogram\n",
    "sns.histplot(data=df, x='age', kde=True)\n",
    "plt.title('Age Distribution')\n",
    "plt.xlabel('Age')\n",
    "plt.ylabel('Count')\n",
    "plt.show()\n"
   ]
  },
  {
   "cell_type": "code",
   "execution_count": null,
   "metadata": {},
   "outputs": [],
   "source": [
    "# Visualize the distribution of 'bmi' using a histogram\n",
    "sns.histplot(data=df, x='bmi', kde=True)\n",
    "plt.title('BMI Distribution')\n",
    "plt.xlabel('BMI')\n",
    "plt.ylabel('Count')\n",
    "plt.show()\n"
   ]
  },
  {
   "cell_type": "code",
   "execution_count": null,
   "metadata": {},
   "outputs": [],
   "source": [
    "# Visualize the distribution of 'children' using a histogram\n",
    "sns.histplot(data=df, x='children', discrete=True)\n",
    "plt.title('Children Distribution')\n",
    "plt.xlabel('Number of Children')\n",
    "plt.ylabel('Count')\n",
    "plt.show()\n"
   ]
  },
  {
   "cell_type": "code",
   "execution_count": null,
   "metadata": {},
   "outputs": [],
   "source": [
    "# Visualize the distribution of 'charges' using a histogram\n",
    "sns.histplot(data=df, x='charges', kde=True)\n",
    "plt.title('Insurance Charges Distribution')\n",
    "plt.xlabel('Charges')\n",
    "plt.ylabel('Count')\n",
    "plt.show()\n"
   ]
  },
  {
   "cell_type": "code",
   "execution_count": null,
   "metadata": {},
   "outputs": [],
   "source": [
    "# Create bar plots for categorical variables: 'sex', 'smoker', 'region'\n",
    "categorical_vars = ['sex', 'smoker', 'region']\n",
    "\n",
    "for var in categorical_vars:\n",
    "    sns.countplot(data=df, x=var)\n",
    "    plt.title(f'{var} Distribution')\n",
    "    plt.xlabel(var)\n",
    "    plt.ylabel('Count')\n",
    "    plt.show()\n"
   ]
  },
  {
   "cell_type": "code",
   "execution_count": null,
   "metadata": {},
   "outputs": [],
   "source": [
    "# Create boxplots for numeric variables: 'age', 'bmi', 'children', 'charges'\n",
    "numeric_vars = ['age', 'bmi', 'children', 'charges']\n",
    "\n",
    "for var in numeric_vars:\n",
    "    sns.boxplot(data=df, y=var)\n",
    "    plt.title(f'{var} Boxplot')\n",
    "    plt.ylabel(var)\n",
    "    plt.show()\n"
   ]
  },
  {
   "cell_type": "code",
   "execution_count": null,
   "metadata": {},
   "outputs": [],
   "source": [
    "# Create a scatterplot matrix for numeric variables\n",
    "sns.pairplot(df[numeric_vars])\n",
    "plt.show()\n"
   ]
  },
  {
   "cell_type": "code",
   "execution_count": null,
   "metadata": {},
   "outputs": [],
   "source": [
    "# Create a heatmap to visualize correlations between numeric variables\n",
    "correlation_matrix = df[numeric_vars].corr()\n",
    "sns.heatmap(correlation_matrix, annot=True, cmap='coolwarm')\n",
    "plt.title('Correlation Matrix')\n",
    "plt.show()\n"
   ]
  },
  {
   "cell_type": "code",
   "execution_count": null,
   "metadata": {},
   "outputs": [],
   "source": [
    "# Summary statistics.\n",
    "df.describe()"
   ]
  },
  {
   "cell_type": "markdown",
   "metadata": {},
   "source": [
    "# 3.Data Analysis\n",
    "- Correlation Analysis\n",
    "- Correlation Matrix\n",
    "- Visualizing Relationships\n",
    "- Hypothesis Testing\n",
    "- Impact of Smoking on Charges\n",
    "- Regression Analysis\n",
    "- Predicting Charges with BMI\n",
    "- Clustering\n",
    "- K-Means Clustering\n",
    "- Geospatial Analysis (if applicable)\n",
    "- Regional Differences in Charges"
   ]
  },
  {
   "cell_type": "markdown",
   "metadata": {},
   "source": [
    "# 4.Insights and Conclusion\n",
    "- Key Findings\n",
    "- Implications\n",
    "- Recommendations\n",
    "- Limitations of the Analysis\n",
    "- Future Work"
   ]
  },
  {
   "cell_type": "markdown",
   "metadata": {},
   "source": [
    "# 5.Appendices\n",
    "- Code Snippets and Notebooks (if provided separately)\n",
    "- Data Dictionary\n",
    "- References"
   ]
  },
  {
   "cell_type": "code",
   "execution_count": null,
   "metadata": {},
   "outputs": [],
   "source": []
  }
 ],
 "metadata": {
  "kernelspec": {
   "display_name": "Python 3 (ipykernel)",
   "language": "python",
   "name": "python3"
  },
  "language_info": {
   "codemirror_mode": {
    "name": "ipython",
    "version": 3
   },
   "file_extension": ".py",
   "mimetype": "text/x-python",
   "name": "python",
   "nbconvert_exporter": "python",
   "pygments_lexer": "ipython3",
   "version": "3.10.9"
  },
  "toc-autonumbering": false,
  "toc-showmarkdowntxt": false,
  "toc-showtags": false
 },
 "nbformat": 4,
 "nbformat_minor": 4
}
